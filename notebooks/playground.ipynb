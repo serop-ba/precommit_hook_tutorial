{
 "cells": [
  {
   "cell_type": "code",
   "execution_count": 1,
   "metadata": {},
   "outputs": [],
   "source": [
    "import numpy as np\n",
    "import pandas as pd\n",
    "from numpy import ndarray\n",
    "from sklearn.linear_model import LinearRegression\n"
   ]
  },
  {
   "cell_type": "code",
   "execution_count": 2,
   "metadata": {},
   "outputs": [
    {
     "data": {
      "text/html": [
       "<div>\n",
       "<style scoped>\n",
       "    .dataframe tbody tr th:only-of-type {\n",
       "        vertical-align: middle;\n",
       "    }\n",
       "\n",
       "    .dataframe tbody tr th {\n",
       "        vertical-align: top;\n",
       "    }\n",
       "\n",
       "    .dataframe thead th {\n",
       "        text-align: right;\n",
       "    }\n",
       "</style>\n",
       "<table border=\"1\" class=\"dataframe\">\n",
       "  <thead>\n",
       "    <tr style=\"text-align: right;\">\n",
       "      <th></th>\n",
       "      <th>dummy1</th>\n",
       "      <th>dummy2</th>\n",
       "      <th>dummy3</th>\n",
       "      <th>dummy4</th>\n",
       "    </tr>\n",
       "  </thead>\n",
       "  <tbody>\n",
       "    <tr>\n",
       "      <th>0</th>\n",
       "      <td>0.539437</td>\n",
       "      <td>0.467003</td>\n",
       "      <td>0.243012</td>\n",
       "      <td>0.031046</td>\n",
       "    </tr>\n",
       "    <tr>\n",
       "      <th>1</th>\n",
       "      <td>0.558757</td>\n",
       "      <td>0.224646</td>\n",
       "      <td>0.272251</td>\n",
       "      <td>0.725203</td>\n",
       "    </tr>\n",
       "    <tr>\n",
       "      <th>2</th>\n",
       "      <td>0.139391</td>\n",
       "      <td>0.011950</td>\n",
       "      <td>0.724744</td>\n",
       "      <td>0.080415</td>\n",
       "    </tr>\n",
       "    <tr>\n",
       "      <th>3</th>\n",
       "      <td>0.366833</td>\n",
       "      <td>0.739516</td>\n",
       "      <td>0.423765</td>\n",
       "      <td>0.157299</td>\n",
       "    </tr>\n",
       "    <tr>\n",
       "      <th>4</th>\n",
       "      <td>0.431562</td>\n",
       "      <td>0.422310</td>\n",
       "      <td>0.651413</td>\n",
       "      <td>0.267952</td>\n",
       "    </tr>\n",
       "  </tbody>\n",
       "</table>\n",
       "</div>"
      ],
      "text/plain": [
       "     dummy1    dummy2    dummy3    dummy4\n",
       "0  0.539437  0.467003  0.243012  0.031046\n",
       "1  0.558757  0.224646  0.272251  0.725203\n",
       "2  0.139391  0.011950  0.724744  0.080415\n",
       "3  0.366833  0.739516  0.423765  0.157299\n",
       "4  0.431562  0.422310  0.651413  0.267952"
      ]
     },
     "execution_count": 2,
     "metadata": {},
     "output_type": "execute_result"
    }
   ],
   "source": [
    "# Generate Dummy data..\n",
    "dummy_data = pd.DataFrame(\n",
    "    {\n",
    "        \"dummy1\": np.random.rand(100),\n",
    "        \"dummy2\": np.random.rand(100),\n",
    "        \"dummy3\": np.random.rand(100),\n",
    "        \"dummy4\": np.random.rand(100),\n",
    "\n",
    "    }\n",
    ")\n",
    "true_label = np.random.rand(100)\n",
    "\n",
    "dummy_data.head()"
   ]
  },
  {
   "cell_type": "code",
   "execution_count": 3,
   "metadata": {},
   "outputs": [
    {
     "name": "stdout",
     "output_type": "stream",
     "text": [
      "[0.54243997 0.48142635 0.56354171 0.55943135 0.52456334 0.47272196\n",
      " 0.51701773 0.41040838 0.45304437 0.4947776  0.52336268 0.471352\n",
      " 0.44736353 0.44879892 0.44103416 0.52998414 0.45967316 0.54198007\n",
      " 0.53415876 0.45932182 0.50148936 0.56607591 0.49467634 0.53187531\n",
      " 0.50348276 0.42658747 0.55041574 0.52915655 0.5720073  0.4828157\n",
      " 0.45815484 0.54128663 0.48410979 0.48219518 0.42505081 0.53125308\n",
      " 0.51340305 0.45573145 0.51093026 0.56034436 0.5869315  0.46290708\n",
      " 0.54193955 0.56780483 0.60440736 0.41771701 0.43502639 0.45905005\n",
      " 0.41674924 0.47216128 0.46798519 0.54582442 0.55657535 0.51490072\n",
      " 0.51818923 0.54632985 0.49084377 0.51023771 0.42763188 0.62470939\n",
      " 0.54277125 0.46683878 0.48569702 0.44357168 0.4933667  0.46994347\n",
      " 0.56389725 0.53354074 0.57230441 0.47599279 0.51995244 0.52700906\n",
      " 0.50001167 0.43048813 0.53656661 0.53541573 0.49166938 0.56873942\n",
      " 0.48685984 0.44684671 0.46450734 0.46063781 0.50688432 0.50220059\n",
      " 0.55514376 0.40648312 0.46299529 0.51639465 0.51861336 0.52212426\n",
      " 0.50790451 0.54013672 0.48835467 0.53394416 0.5363247  0.48665469\n",
      " 0.48975497 0.50841712 0.47189937 0.49880219]\n"
     ]
    }
   ],
   "source": [
    "# Initialize the LinearRegression model\n",
    "model = LinearRegression()\n",
    "\n",
    "# Fit the model to the training data\n",
    "model.fit(dummy_data, true_label)\n",
    "\n",
    "# Make predictions using the trained model\n",
    "predictions = model.predict(dummy_data)\n",
    "\n",
    "# Print the predictions\n",
    "print(predictions)"
   ]
  },
  {
   "cell_type": "code",
   "execution_count": null,
   "metadata": {},
   "outputs": [],
   "source": []
  },
  {
   "cell_type": "code",
   "execution_count": null,
   "metadata": {},
   "outputs": [],
   "source": []
  }
 ],
 "metadata": {
  "kernelspec": {
   "display_name": "dummy-T5jetP5y-py3.11",
   "language": "python",
   "name": "python3"
  },
  "language_info": {
   "codemirror_mode": {
    "name": "ipython",
    "version": 3
   },
   "file_extension": ".py",
   "mimetype": "text/x-python",
   "name": "python",
   "nbconvert_exporter": "python",
   "pygments_lexer": "ipython3",
   "version": "3.11.4"
  },
  "orig_nbformat": 4
 },
 "nbformat": 4,
 "nbformat_minor": 2
}
