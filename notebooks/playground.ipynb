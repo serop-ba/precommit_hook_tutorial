{
 "cells": [
  {
   "cell_type": "code",
   "execution_count": 1,
   "metadata": {},
   "outputs": [],
   "source": [
    "import numpy as np\n",
    "import pandas as pd\n",
    "from numpy import ndarray\n",
    "from sklearn.linear_model import LinearRegression\n"
   ]
  },
  {
   "cell_type": "code",
   "execution_count": 2,
   "metadata": {},
   "outputs": [
    {
     "data": {
      "text/html": [
       "<div>\n",
       "<style scoped>\n",
       "    .dataframe tbody tr th:only-of-type {\n",
       "        vertical-align: middle;\n",
       "    }\n",
       "\n",
       "    .dataframe tbody tr th {\n",
       "        vertical-align: top;\n",
       "    }\n",
       "\n",
       "    .dataframe thead th {\n",
       "        text-align: right;\n",
       "    }\n",
       "</style>\n",
       "<table border=\"1\" class=\"dataframe\">\n",
       "  <thead>\n",
       "    <tr style=\"text-align: right;\">\n",
       "      <th></th>\n",
       "      <th>dummy1</th>\n",
       "      <th>dummy2</th>\n",
       "      <th>dummy3</th>\n",
       "    </tr>\n",
       "  </thead>\n",
       "  <tbody>\n",
       "    <tr>\n",
       "      <th>0</th>\n",
       "      <td>0.787680</td>\n",
       "      <td>0.083256</td>\n",
       "      <td>0.877637</td>\n",
       "    </tr>\n",
       "    <tr>\n",
       "      <th>1</th>\n",
       "      <td>0.599493</td>\n",
       "      <td>0.441616</td>\n",
       "      <td>0.350125</td>\n",
       "    </tr>\n",
       "    <tr>\n",
       "      <th>2</th>\n",
       "      <td>0.117649</td>\n",
       "      <td>0.108877</td>\n",
       "      <td>0.755813</td>\n",
       "    </tr>\n",
       "    <tr>\n",
       "      <th>3</th>\n",
       "      <td>0.920848</td>\n",
       "      <td>0.171858</td>\n",
       "      <td>0.522880</td>\n",
       "    </tr>\n",
       "    <tr>\n",
       "      <th>4</th>\n",
       "      <td>0.141307</td>\n",
       "      <td>0.530311</td>\n",
       "      <td>0.760199</td>\n",
       "    </tr>\n",
       "  </tbody>\n",
       "</table>\n",
       "</div>"
      ],
      "text/plain": [
       "     dummy1    dummy2    dummy3\n",
       "0  0.787680  0.083256  0.877637\n",
       "1  0.599493  0.441616  0.350125\n",
       "2  0.117649  0.108877  0.755813\n",
       "3  0.920848  0.171858  0.522880\n",
       "4  0.141307  0.530311  0.760199"
      ]
     },
     "execution_count": 2,
     "metadata": {},
     "output_type": "execute_result"
    }
   ],
   "source": [
    "# Generate Dummy data.\n",
    "dummy_data = pd.DataFrame(\n",
    "    {\n",
    "        \"dummy1\": np.random.rand(100),\n",
    "        \"dummy2\": np.random.rand(100),\n",
    "        \"dummy3\": np.random.rand(100),\n",
    "    }\n",
    ")\n",
    "true_label = np.random.rand(100)\n",
    "\n",
    "dummy_data.head()"
   ]
  },
  {
   "cell_type": "code",
   "execution_count": 3,
   "metadata": {},
   "outputs": [
    {
     "name": "stdout",
     "output_type": "stream",
     "text": [
      "[0.66774344 0.52617683 0.50502206 0.6365475  0.48653148 0.5655604\n",
      " 0.5025116  0.46293832 0.48504739 0.5126049  0.56209652 0.50683677\n",
      " 0.6350053  0.50698919 0.46101696 0.40016847 0.49293384 0.5734081\n",
      " 0.47388399 0.51314716 0.42691792 0.58785956 0.46970126 0.52315206\n",
      " 0.51189502 0.58766199 0.37573571 0.40319826 0.57174389 0.51549998\n",
      " 0.38825309 0.35029629 0.54176406 0.55228833 0.57234466 0.50625325\n",
      " 0.45742071 0.56587194 0.54836719 0.61568066 0.57393786 0.47063874\n",
      " 0.65057048 0.36265678 0.6622897  0.63790144 0.52996117 0.65344053\n",
      " 0.42121867 0.46558521 0.45495114 0.55490076 0.56250668 0.52304398\n",
      " 0.54765365 0.39813557 0.48053459 0.54866526 0.51420411 0.53683851\n",
      " 0.50107072 0.54522014 0.502077   0.5223392  0.52904952 0.49634057\n",
      " 0.45057909 0.4411028  0.56152876 0.49276042 0.540114   0.45391571\n",
      " 0.47636317 0.39323391 0.44341124 0.47876913 0.50779055 0.46608617\n",
      " 0.43710921 0.57806806 0.59883683 0.54594581 0.49616895 0.572562\n",
      " 0.65170303 0.53533536 0.58769424 0.52224809 0.51333662 0.57871856\n",
      " 0.4924258  0.4845182  0.40060817 0.57159718 0.4938508  0.50865673\n",
      " 0.56030188 0.49784492 0.46641148 0.56848902]\n"
     ]
    }
   ],
   "source": [
    "# Initialize the LinearRegression model\n",
    "model = LinearRegression()\n",
    "\n",
    "# Fit the model to the training data\n",
    "model.fit(dummy_data, true_label)\n",
    "\n",
    "# Make predictions using the trained model\n",
    "predictions = model.predict(dummy_data)\n",
    "\n",
    "# Print the predictions\n",
    "print(predictions)"
   ]
  },
  {
   "cell_type": "code",
   "execution_count": null,
   "metadata": {},
   "outputs": [],
   "source": []
  }
 ],
 "metadata": {
  "kernelspec": {
   "display_name": "dummy-T5jetP5y-py3.11",
   "language": "python",
   "name": "python3"
  },
  "language_info": {
   "codemirror_mode": {
    "name": "ipython",
    "version": 3
   },
   "file_extension": ".py",
   "mimetype": "text/x-python",
   "name": "python",
   "nbconvert_exporter": "python",
   "pygments_lexer": "ipython3",
   "version": "3.11.4"
  },
  "orig_nbformat": 4
 },
 "nbformat": 4,
 "nbformat_minor": 2
}
