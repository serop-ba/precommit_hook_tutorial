{
 "cells": [
  {
   "cell_type": "code",
   "execution_count": 1,
   "metadata": {},
   "outputs": [],
   "source": [
    "import numpy as np\n",
    "import pandas as pd\n",
    "from numpy import ndarray\n",
    "from sklearn.linear_model import LinearRegression\n"
   ]
  },
  {
   "cell_type": "code",
   "execution_count": 4,
   "metadata": {},
   "outputs": [
    {
     "data": {
      "text/html": [
       "<div>\n",
       "<style scoped>\n",
       "    .dataframe tbody tr th:only-of-type {\n",
       "        vertical-align: middle;\n",
       "    }\n",
       "\n",
       "    .dataframe tbody tr th {\n",
       "        vertical-align: top;\n",
       "    }\n",
       "\n",
       "    .dataframe thead th {\n",
       "        text-align: right;\n",
       "    }\n",
       "</style>\n",
       "<table border=\"1\" class=\"dataframe\">\n",
       "  <thead>\n",
       "    <tr style=\"text-align: right;\">\n",
       "      <th></th>\n",
       "      <th>dummy1</th>\n",
       "      <th>dummy2</th>\n",
       "      <th>dummy3</th>\n",
       "      <th>dummy4</th>\n",
       "    </tr>\n",
       "  </thead>\n",
       "  <tbody>\n",
       "    <tr>\n",
       "      <th>0</th>\n",
       "      <td>0.741367</td>\n",
       "      <td>0.659245</td>\n",
       "      <td>0.530429</td>\n",
       "      <td>0.889328</td>\n",
       "    </tr>\n",
       "    <tr>\n",
       "      <th>1</th>\n",
       "      <td>0.144949</td>\n",
       "      <td>0.558195</td>\n",
       "      <td>0.479285</td>\n",
       "      <td>0.409844</td>\n",
       "    </tr>\n",
       "    <tr>\n",
       "      <th>2</th>\n",
       "      <td>0.944666</td>\n",
       "      <td>0.037719</td>\n",
       "      <td>0.967745</td>\n",
       "      <td>0.130881</td>\n",
       "    </tr>\n",
       "    <tr>\n",
       "      <th>3</th>\n",
       "      <td>0.942396</td>\n",
       "      <td>0.493741</td>\n",
       "      <td>0.080861</td>\n",
       "      <td>0.823823</td>\n",
       "    </tr>\n",
       "    <tr>\n",
       "      <th>4</th>\n",
       "      <td>0.296128</td>\n",
       "      <td>0.769728</td>\n",
       "      <td>0.395126</td>\n",
       "      <td>0.089658</td>\n",
       "    </tr>\n",
       "  </tbody>\n",
       "</table>\n",
       "</div>"
      ],
      "text/plain": [
       "     dummy1    dummy2    dummy3    dummy4\n",
       "0  0.741367  0.659245  0.530429  0.889328\n",
       "1  0.144949  0.558195  0.479285  0.409844\n",
       "2  0.944666  0.037719  0.967745  0.130881\n",
       "3  0.942396  0.493741  0.080861  0.823823\n",
       "4  0.296128  0.769728  0.395126  0.089658"
      ]
     },
     "execution_count": 4,
     "metadata": {},
     "output_type": "execute_result"
    }
   ],
   "source": [
    "# Generate Dummy data.\n",
    "dummy_data = pd.DataFrame(\n",
    "    {\n",
    "        \"dummy1\": np.random.rand(100),\n",
    "        \"dummy2\": np.random.rand(100),\n",
    "        \"dummy3\": np.random.rand(100),\n",
    "        \"dummy4\": np.random.rand(100),\n",
    "\n",
    "    }\n",
    ")\n",
    "true_label = np.random.rand(100)\n",
    "\n",
    "dummy_data.head()"
   ]
  },
  {
   "cell_type": "code",
   "execution_count": 5,
   "metadata": {},
   "outputs": [
    {
     "name": "stdout",
     "output_type": "stream",
     "text": [
      "[0.57841058 0.44363658 0.44414834 0.60514162 0.37939837 0.45848668\n",
      " 0.54064642 0.43171033 0.40183141 0.41647991 0.58984465 0.50563812\n",
      " 0.53746315 0.43858832 0.542383   0.57859311 0.46953602 0.46568912\n",
      " 0.55981673 0.49243028 0.41857047 0.63119344 0.38561275 0.51493752\n",
      " 0.39311204 0.41761038 0.37753304 0.55430609 0.52700402 0.51808831\n",
      " 0.44632318 0.54801248 0.50270748 0.53827634 0.55142063 0.52643334\n",
      " 0.48308482 0.44481715 0.39001705 0.38836019 0.46832212 0.39969061\n",
      " 0.4166042  0.43184571 0.47293956 0.55845599 0.38512473 0.47813036\n",
      " 0.37874535 0.48340347 0.36870022 0.51886042 0.48461458 0.50887247\n",
      " 0.42745941 0.44820112 0.44244725 0.52600787 0.41201408 0.54725886\n",
      " 0.41963031 0.42199832 0.52575146 0.43467471 0.56648758 0.47511463\n",
      " 0.42965161 0.55512814 0.55208507 0.41289117 0.5015224  0.53844802\n",
      " 0.45991901 0.37899278 0.47930235 0.45642167 0.4537284  0.44018903\n",
      " 0.49059272 0.43230173 0.56426992 0.44812376 0.48429818 0.43208821\n",
      " 0.52979029 0.4184119  0.41204123 0.5771112  0.37390946 0.3971004\n",
      " 0.52719945 0.54102305 0.53671226 0.5758985  0.58700608 0.44672298\n",
      " 0.45174476 0.59097229 0.55783242 0.50060423]\n"
     ]
    }
   ],
   "source": [
    "# Initialize the LinearRegression model\n",
    "model = LinearRegression()\n",
    "\n",
    "# Fit the model to the training data\n",
    "model.fit(dummy_data, true_label)\n",
    "\n",
    "# Make predictions using the trained model\n",
    "predictions = model.predict(dummy_data)\n",
    "\n",
    "# Print the predictions\n",
    "print(predictions)"
   ]
  },
  {
   "cell_type": "code",
   "execution_count": null,
   "metadata": {},
   "outputs": [],
   "source": []
  }
 ],
 "metadata": {
  "kernelspec": {
   "display_name": "dummy-T5jetP5y-py3.11",
   "language": "python",
   "name": "python3"
  },
  "language_info": {
   "codemirror_mode": {
    "name": "ipython",
    "version": 3
   },
   "file_extension": ".py",
   "mimetype": "text/x-python",
   "name": "python",
   "nbconvert_exporter": "python",
   "pygments_lexer": "ipython3",
   "version": "3.11.4"
  },
  "orig_nbformat": 4
 },
 "nbformat": 4,
 "nbformat_minor": 2
}
