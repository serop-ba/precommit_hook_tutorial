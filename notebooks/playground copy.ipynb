{
 "cells": [
  {
   "cell_type": "code",
   "execution_count": 1,
   "metadata": {},
   "outputs": [],
   "source": [
    "import numpy as np\n",
    "import pandas as pd\n",
    "from numpy import ndarray\n",
    "from sklearn.linear_model import LinearRegression\n"
   ]
  },
  {
   "cell_type": "code",
   "execution_count": 2,
   "metadata": {},
   "outputs": [
    {
     "data": {
      "text/html": [
       "<div>\n",
       "<style scoped>\n",
       "    .dataframe tbody tr th:only-of-type {\n",
       "        vertical-align: middle;\n",
       "    }\n",
       "\n",
       "    .dataframe tbody tr th {\n",
       "        vertical-align: top;\n",
       "    }\n",
       "\n",
       "    .dataframe thead th {\n",
       "        text-align: right;\n",
       "    }\n",
       "</style>\n",
       "<table border=\"1\" class=\"dataframe\">\n",
       "  <thead>\n",
       "    <tr style=\"text-align: right;\">\n",
       "      <th></th>\n",
       "      <th>dummy1</th>\n",
       "      <th>dummy2</th>\n",
       "      <th>dummy3</th>\n",
       "    </tr>\n",
       "  </thead>\n",
       "  <tbody>\n",
       "    <tr>\n",
       "      <th>0</th>\n",
       "      <td>0.919965</td>\n",
       "      <td>0.661374</td>\n",
       "      <td>0.722852</td>\n",
       "    </tr>\n",
       "    <tr>\n",
       "      <th>1</th>\n",
       "      <td>0.726058</td>\n",
       "      <td>0.707366</td>\n",
       "      <td>0.191646</td>\n",
       "    </tr>\n",
       "    <tr>\n",
       "      <th>2</th>\n",
       "      <td>0.853702</td>\n",
       "      <td>0.638917</td>\n",
       "      <td>0.160695</td>\n",
       "    </tr>\n",
       "    <tr>\n",
       "      <th>3</th>\n",
       "      <td>0.251199</td>\n",
       "      <td>0.426242</td>\n",
       "      <td>0.950485</td>\n",
       "    </tr>\n",
       "    <tr>\n",
       "      <th>4</th>\n",
       "      <td>0.098933</td>\n",
       "      <td>0.081121</td>\n",
       "      <td>0.919838</td>\n",
       "    </tr>\n",
       "  </tbody>\n",
       "</table>\n",
       "</div>"
      ],
      "text/plain": [
       "     dummy1    dummy2    dummy3\n",
       "0  0.919965  0.661374  0.722852\n",
       "1  0.726058  0.707366  0.191646\n",
       "2  0.853702  0.638917  0.160695\n",
       "3  0.251199  0.426242  0.950485\n",
       "4  0.098933  0.081121  0.919838"
      ]
     },
     "execution_count": 2,
     "metadata": {},
     "output_type": "execute_result"
    }
   ],
   "source": [
    "# Generate Dummy data..\n",
    "dummy_data = pd.DataFrame(\n",
    "    {\n",
    "        \"dummy1\": np.random.rand(100),\n",
    "        \"dummy2\": np.random.rand(100),\n",
    "        \"dummy3\": np.random.rand(100),\n",
    "\n",
    "\n",
    "    }\n",
    ")\n",
    "true_label = np.random.rand(100)\n",
    "\n",
    "dummy_data.head()"
   ]
  },
  {
   "cell_type": "code",
   "execution_count": 3,
   "metadata": {},
   "outputs": [
    {
     "name": "stdout",
     "output_type": "stream",
     "text": [
      "[0.42136701 0.55324482 0.56569247 0.41682101 0.47398352 0.54691012\n",
      " 0.47142285 0.63913957 0.42799454 0.57462587 0.64666557 0.45746862\n",
      " 0.54891597 0.5441396  0.61841677 0.61825841 0.60654319 0.55233255\n",
      " 0.43812428 0.50261679 0.51541537 0.54325089 0.48925652 0.59123004\n",
      " 0.37750355 0.62096462 0.56092128 0.46683382 0.60925408 0.57248835\n",
      " 0.42651386 0.5684995  0.55104633 0.52733208 0.49602797 0.57848495\n",
      " 0.47276624 0.45301395 0.5821617  0.59360785 0.36656229 0.45476474\n",
      " 0.42576413 0.53737169 0.41810129 0.37855397 0.58005638 0.57190036\n",
      " 0.54293951 0.59201711 0.43153567 0.56859864 0.55091618 0.44011577\n",
      " 0.45781768 0.45485522 0.44987309 0.64407113 0.46481967 0.53768458\n",
      " 0.69352267 0.46506037 0.46641572 0.54424596 0.58983406 0.45745247\n",
      " 0.58478005 0.42391694 0.38117836 0.56131731 0.59669948 0.50381374\n",
      " 0.48388749 0.57115507 0.5958743  0.59000535 0.46977078 0.58785709\n",
      " 0.53713695 0.46369093 0.62529164 0.50784119 0.60163682 0.50138616\n",
      " 0.52594769 0.49558965 0.48340565 0.40910252 0.41908198 0.43759007\n",
      " 0.62025608 0.58720202 0.47523958 0.61698209 0.49259976 0.53670653\n",
      " 0.44205434 0.5396843  0.45957058 0.51788323]\n"
     ]
    }
   ],
   "source": [
    "# Initialize the LinearRegression model\n",
    "model = LinearRegression()\n",
    "\n",
    "# Fit the model to the training data\n",
    "model.fit(dummy_data, true_label)\n",
    "\n",
    "# Make predictions using the trained model\n",
    "predictions = model.predict(dummy_data)\n",
    "\n",
    "# Print the predictions\n",
    "print(predictions)"
   ]
  },
  {
   "cell_type": "code",
   "execution_count": null,
   "metadata": {},
   "outputs": [],
   "source": []
  },
  {
   "cell_type": "code",
   "execution_count": null,
   "metadata": {},
   "outputs": [],
   "source": []
  }
 ],
 "metadata": {
  "kernelspec": {
   "display_name": "dummy-T5jetP5y-py3.11",
   "language": "python",
   "name": "python3"
  },
  "language_info": {
   "codemirror_mode": {
    "name": "ipython",
    "version": 3
   },
   "file_extension": ".py",
   "mimetype": "text/x-python",
   "name": "python",
   "nbconvert_exporter": "python",
   "pygments_lexer": "ipython3",
   "version": "3.11.4"
  },
  "orig_nbformat": 4
 },
 "nbformat": 4,
 "nbformat_minor": 2
}
